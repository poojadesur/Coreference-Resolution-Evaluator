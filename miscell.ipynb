{
 "cells": [
  {
   "cell_type": "code",
   "execution_count": 2,
   "metadata": {},
   "outputs": [],
   "source": [
    "import re\n",
    "import os"
   ]
  },
  {
   "cell_type": "code",
   "execution_count": 3,
   "metadata": {},
   "outputs": [],
   "source": [
    "#format given: multiple files and annotation in same file\n",
    "#function splits the file into multiple files, each with its own begin and end\n",
    "def change_format(dirpath, filename):\n",
    "    with open(dirpath+filename, 'r') as f:\n",
    "        index = -1\n",
    "        os.mkdir(dirpath+filename.replace(\".conll\",\"\")) \n",
    "        for line in f:\n",
    "            if line == \"\\n\": \n",
    "                # print(\"helo\")\n",
    "                continue\n",
    "            if line.split()[0] == \"#begin\":\n",
    "                index += 1\n",
    "                new_filename = dirpath+filename.replace(\".conll\",\"\")+\"/file_\"+str(index) + \".conll\"\n",
    "            with open(new_filename,'a') as f:\n",
    "                f.write(line)\n",
    "            # print(line)"
   ]
  },
  {
   "cell_type": "code",
   "execution_count": 5,
   "metadata": {},
   "outputs": [],
   "source": [
    "for file in os.listdir(\"../datasets/all_files/\"):\n",
    "    change_format(\"../datasets/all_files/\", file)"
   ]
  },
  {
   "cell_type": "code",
   "execution_count": null,
   "metadata": {},
   "outputs": [],
   "source": [
    "change_format(\"../datasets/coref_model_outputs/235_final_test_data_pred.conll\")"
   ]
  },
  {
   "cell_type": "code",
   "execution_count": null,
   "metadata": {},
   "outputs": [],
   "source": []
  }
 ],
 "metadata": {
  "kernelspec": {
   "display_name": "Python 3.8.10 64-bit",
   "language": "python",
   "name": "python3"
  },
  "language_info": {
   "codemirror_mode": {
    "name": "ipython",
    "version": 3
   },
   "file_extension": ".py",
   "mimetype": "text/x-python",
   "name": "python",
   "nbconvert_exporter": "python",
   "pygments_lexer": "ipython3",
   "version": "3.8.10"
  },
  "orig_nbformat": 4,
  "vscode": {
   "interpreter": {
    "hash": "916dbcbb3f70747c44a77c7bcd40155683ae19c65e1c03b4aa3499c5328201f1"
   }
  }
 },
 "nbformat": 4,
 "nbformat_minor": 2
}
