{
 "cells": [
  {
   "cell_type": "code",
   "execution_count": null,
   "metadata": {},
   "outputs": [],
   "source": [
    "## implementation of lea to test out scores it gives via its formulas"
   ]
  },
  {
   "cell_type": "code",
   "execution_count": 3,
   "metadata": {},
   "outputs": [],
   "source": [
    "c4 = [['a','d','e'],['b','f','g','d','e'],['c','h','i','d','e']]\n",
    "c6 = [['a','d','e'],['b','f','g'],['c','h','i']]\n",
    "c8 = [['a','d','e'],['b','f','g','d','e'],['c','h','i','d','e']]\n",
    "c10 = [['a'],['b','f','g'],['c','h','i','d','e']]\n",
    "c5 = [['a','d','e'],['b','f','g','d'],['c','h','i','d']]\n",
    "c7 = [['a','d','e'],['b','f','g'],['c','h','i']]\n",
    "c9 = [['a','d','e'],['b','f','g','d'],['c','h','i','d']]\n",
    "c11 = [['a','e'],['b','f','g','d'],['c','h','i']]\n",
    "c12 = [['a','d','e'],['b','f','g','a'],['c','h','i']]\n",
    "c13 = [['a','d','e'],['d','b','f','g','a'],['c','h','i']]\n",
    "c1 = [['a','d','e'],['b','f','g'],['c','h','i']]"
   ]
  },
  {
   "cell_type": "code",
   "execution_count": 4,
   "metadata": {},
   "outputs": [],
   "source": [
    "def link(a):\n",
    "    return (a * (a-1)/2)"
   ]
  },
  {
   "cell_type": "code",
   "execution_count": 5,
   "metadata": {},
   "outputs": [],
   "source": [
    "def lea(key, response):\n",
    "\n",
    "    denominator = 0\n",
    "\n",
    "    numerator = 0\n",
    "\n",
    "    for e1 in key:\n",
    "        denominator += len(e1)\n",
    "        val = 0\n",
    "        for e2 in response:\n",
    "            a = link(len(set(e1) & set(e2)))\n",
    "            b = link(len(e1))\n",
    "            val += a/b\n",
    "            # print(f\"a: {a} b: {b} val: {val}\")\n",
    "\n",
    "        numerator += (len(e1) * val)\n",
    "        # print(f\"numerator: {numerator}\")\n",
    "    \n",
    "    print(f\"num: {numerator} denom: {denominator} score: {numerator/denominator}\")\n",
    "    return (numerator/denominator)\n"
   ]
  },
  {
   "cell_type": "code",
   "execution_count": 6,
   "metadata": {},
   "outputs": [],
   "source": [
    "def get_scores(key, response):\n",
    "    print(\"RECALL\")\n",
    "    recall = lea(key,response)\n",
    "    print(\"PRECISION\")\n",
    "    precision = lea(response,key)\n",
    "    f1 = 2*recall*precision / (recall + precision)\n",
    "    print(f\"F1 {f1}\")"
   ]
  },
  {
   "cell_type": "code",
   "execution_count": 7,
   "metadata": {},
   "outputs": [
    {
     "name": "stdout",
     "output_type": "stream",
     "text": [
      "RECALL\n",
      "num: 9.0 denom: 9 score: 1.0\n",
      "PRECISION\n",
      "num: 8.0 denom: 10 score: 0.8\n",
      "F1 0.888888888888889\n"
     ]
    }
   ],
   "source": [
    "get_scores(c1,c12)"
   ]
  },
  {
   "cell_type": "code",
   "execution_count": 8,
   "metadata": {},
   "outputs": [
    {
     "name": "stdout",
     "output_type": "stream",
     "text": [
      "RECALL\n",
      "num: 10.0 denom: 9 score: 1.1111111111111112\n",
      "PRECISION\n",
      "num: 8.0 denom: 11 score: 0.7272727272727273\n",
      "F1 0.8791208791208792\n"
     ]
    }
   ],
   "source": [
    "get_scores(c1,c13)"
   ]
  },
  {
   "cell_type": "code",
   "execution_count": null,
   "metadata": {},
   "outputs": [],
   "source": [
    ":"
   ]
  }
 ],
 "metadata": {
  "kernelspec": {
   "display_name": "Python 3.8.10 64-bit",
   "language": "python",
   "name": "python3"
  },
  "language_info": {
   "codemirror_mode": {
    "name": "ipython",
    "version": 3
   },
   "file_extension": ".py",
   "mimetype": "text/x-python",
   "name": "python",
   "nbconvert_exporter": "python",
   "pygments_lexer": "ipython3",
   "version": "3.8.10"
  },
  "orig_nbformat": 4,
  "vscode": {
   "interpreter": {
    "hash": "916dbcbb3f70747c44a77c7bcd40155683ae19c65e1c03b4aa3499c5328201f1"
   }
  }
 },
 "nbformat": 4,
 "nbformat_minor": 2
}
